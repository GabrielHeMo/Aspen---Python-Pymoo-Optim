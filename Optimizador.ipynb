{
 "cells": [
  {
   "cell_type": "code",
   "execution_count": 1,
   "metadata": {},
   "outputs": [],
   "source": [
    "import os                          # Import operating system interface\n",
    "import win32com.client as win32    # Import COM\n",
    "import numpy as np\n",
    "import matplotlib.pyplot as plt"
   ]
  },
  {
   "cell_type": "markdown",
   "metadata": {},
   "source": [
    "# Abriendo archivo de Aspen Con Python"
   ]
  },
  {
   "cell_type": "code",
   "execution_count": 2,
   "metadata": {},
   "outputs": [],
   "source": [
    "# Si esta en la misma carptea solo se marca el nombre del archivo formato bkp.\n",
    "file = 'S_7.bkp'\n",
    "# Dirección del archivo\n",
    "aspen_Path = os.path.abspath(file)"
   ]
  },
  {
   "cell_type": "markdown",
   "metadata": {},
   "source": [
    "# Conexión a Aspen ..."
   ]
  },
  {
   "cell_type": "code",
   "execution_count": 3,
   "metadata": {},
   "outputs": [
    {
     "name": "stdout",
     "output_type": "stream",
     "text": [
      "\n",
      " Connecting to the Aspen Plus... Please wait \n",
      "Connected!\n"
     ]
    }
   ],
   "source": [
    "# Se inicia aplicación de aspen\n",
    "print('\\n Connecting to the Aspen Plus... Please wait ')\n",
    "Application = win32.Dispatch('Apwn.Document') # Registered name of Aspen Plus\n",
    "print('Connected!')"
   ]
  },
  {
   "cell_type": "markdown",
   "metadata": {},
   "source": [
    "# Se inicia archivo de Aspen y se oculta el archivo \n",
    "No se abre aspen para agilizar el proceso :)"
   ]
  },
  {
   "cell_type": "code",
   "execution_count": 4,
   "metadata": {},
   "outputs": [],
   "source": [
    "# Se inicia el archivo ASPEN\n",
    "Application.InitFromArchive2(aspen_Path)\n",
    "\n",
    "# Se hace el archivo no visible\n",
    "Application.visible = 0"
   ]
  },
  {
   "cell_type": "markdown",
   "metadata": {},
   "source": [
    "# Optimización con pymoo\n",
    "Se emplea el algoritmo NSGA, para mayor información ver referencias. \n",
    "Se puede implementar otro metodo como el Particle Swap Optimization.\n",
    "Este caso solo minimiza una función objetivo (TAC) pero se pueden formular problemas multiobjetivos, como: sustentabilidad, indicador de riesgo, etc.\n",
    "\n",
    "\n",
    "https://pymoo.org/algorithms/moo/nsga2.html\n",
    "\n",
    "https://pymoo.org/algorithms/soo/pso.html\n",
    "\n",
    "En el código vienen algunos comentarios para entenderlo.\n",
    "Si tienes alguna duda con el código o mejora potencial, Hazmelo saber ¡"
   ]
  },
  {
   "cell_type": "code",
   "execution_count": 5,
   "metadata": {},
   "outputs": [
    {
     "name": "stdout",
     "output_type": "stream",
     "text": [
      "==========================================================================================\n",
      "n_gen  |  n_eval  | n_nds  |     cv_min    |     cv_avg    |      eps      |   indicator  \n",
      "==========================================================================================\n",
      "     1 |       40 |      1 |  0.000000E+00 |  0.2535436907 |             - |             -\n",
      "     2 |       45 |      1 |  0.000000E+00 |  0.2247110853 |  0.000000E+00 |             f\n",
      "     3 |       50 |      1 |  0.000000E+00 |  0.1850770426 |  0.000000E+00 |             f\n",
      "     4 |       55 |      1 |  0.000000E+00 |  0.1365137766 |  0.000000E+00 |             f\n",
      "     5 |       60 |      1 |  0.000000E+00 |  0.0889079195 |  0.000000E+00 |             f\n",
      "     6 |       65 |      1 |  0.000000E+00 |  0.0592445007 |  0.000000E+00 |             f\n",
      "     7 |       70 |      1 |  0.000000E+00 |  0.0399261207 |  0.000000E+00 |             f\n",
      "     8 |       75 |      1 |  0.000000E+00 |  0.0283356463 |  0.000000E+00 |             f\n",
      "     9 |       80 |      1 |  0.000000E+00 |  0.0160471360 |  0.000000E+00 |             f\n",
      "    10 |       85 |      1 |  0.000000E+00 |  0.0070710887 |  0.000000E+00 |             f\n",
      "    11 |       90 |      1 |  0.000000E+00 |  0.0039075235 |  0.000000E+00 |             f\n",
      "    12 |       95 |      1 |  0.000000E+00 |  0.0013671611 |  0.0013702792 |             f\n",
      "    13 |      100 |      1 |  0.000000E+00 |  0.0004246049 |  0.0013702792 |             f\n",
      "    14 |      105 |      1 |  0.000000E+00 |  0.0000341021 |  0.0013702792 |             f\n",
      "    15 |      110 |      1 |  0.000000E+00 |  2.209875E-06 |  0.0017698237 |             f\n",
      "    16 |      115 |      1 |  0.000000E+00 |  0.000000E+00 |  0.0017698237 |             f\n",
      "    17 |      120 |      1 |  0.000000E+00 |  0.000000E+00 |  0.0017698237 |             f\n",
      "    18 |      125 |      1 |  0.000000E+00 |  0.000000E+00 |  0.0017698237 |             f\n",
      "    19 |      130 |      1 |  0.000000E+00 |  0.000000E+00 |  0.0017698237 |             f\n",
      "    20 |      135 |      1 |  0.000000E+00 |  0.000000E+00 |  0.0017698237 |             f\n",
      "    21 |      140 |      1 |  0.000000E+00 |  0.000000E+00 |  0.0017698237 |             f\n",
      "    22 |      145 |      1 |  0.000000E+00 |  0.000000E+00 |  0.0017698237 |             f\n",
      "    23 |      150 |      1 |  0.000000E+00 |  0.000000E+00 |  0.0017698489 |             f\n",
      "    24 |      155 |      1 |  0.000000E+00 |  0.000000E+00 |  0.0017698489 |             f\n",
      "    25 |      160 |      1 |  0.000000E+00 |  0.000000E+00 |  0.0018306646 |             f\n",
      "    26 |      165 |      1 |  0.000000E+00 |  0.000000E+00 |  0.0018306646 |             f\n",
      "    27 |      170 |      1 |  0.000000E+00 |  0.000000E+00 |  0.0018306646 |             f\n",
      "    28 |      175 |      1 |  0.000000E+00 |  0.000000E+00 |  0.0018306646 |             f\n",
      "    29 |      180 |      1 |  0.000000E+00 |  0.000000E+00 |  0.0018306646 |             f\n",
      "    30 |      185 |      1 |  0.000000E+00 |  0.000000E+00 |  0.0018306646 |             f\n",
      "    31 |      190 |      1 |  0.000000E+00 |  0.000000E+00 |  0.0018306646 |             f\n",
      "    32 |      195 |      1 |  0.000000E+00 |  0.000000E+00 |  0.0042344944 |         ideal\n",
      "    33 |      200 |      1 |  0.000000E+00 |  0.000000E+00 |  0.000000E+00 |             f\n",
      "    34 |      205 |      1 |  0.000000E+00 |  0.000000E+00 |  0.000000E+00 |             f\n",
      "    35 |      210 |      1 |  0.000000E+00 |  0.000000E+00 |  0.000000E+00 |             f\n",
      "    36 |      215 |      1 |  0.000000E+00 |  0.000000E+00 |  0.000000E+00 |             f\n",
      "    37 |      220 |      1 |  0.000000E+00 |  0.000000E+00 |  0.000000E+00 |             f\n",
      "    38 |      225 |      1 |  0.000000E+00 |  0.000000E+00 |  0.000000E+00 |             f\n",
      "    39 |      230 |      1 |  0.000000E+00 |  0.000000E+00 |  0.000000E+00 |             f\n",
      "    40 |      235 |      1 |  0.000000E+00 |  0.000000E+00 |  0.000000E+00 |             f\n",
      "    41 |      240 |      1 |  0.000000E+00 |  0.000000E+00 |  0.000000E+00 |             f\n",
      "    42 |      245 |      1 |  0.000000E+00 |  0.000000E+00 |  0.000000E+00 |             f\n",
      "    43 |      250 |      1 |  0.000000E+00 |  0.000000E+00 |  5.093395E-08 |             f\n",
      "    44 |      255 |      1 |  0.000000E+00 |  0.000000E+00 |  0.0018916785 |             f\n",
      "    45 |      260 |      1 |  0.000000E+00 |  0.000000E+00 |  0.0018916785 |             f\n",
      "    46 |      265 |      1 |  0.000000E+00 |  0.000000E+00 |  0.0018916785 |             f\n",
      "    47 |      270 |      1 |  0.000000E+00 |  0.000000E+00 |  0.0018916785 |             f\n",
      "    48 |      275 |      1 |  0.000000E+00 |  0.000000E+00 |  0.0018916785 |             f\n",
      "    49 |      280 |      1 |  0.000000E+00 |  0.000000E+00 |  0.0018916785 |             f\n",
      "    50 |      285 |      1 |  0.000000E+00 |  0.000000E+00 |  0.0018916785 |             f\n",
      "    51 |      290 |      1 |  0.000000E+00 |  0.000000E+00 |  0.0018916785 |             f\n",
      "    52 |      295 |      1 |  0.000000E+00 |  0.000000E+00 |  0.0018916785 |             f\n",
      "    53 |      300 |      1 |  0.000000E+00 |  0.000000E+00 |  0.0025590801 |         ideal\n",
      "    54 |      305 |      1 |  0.000000E+00 |  0.000000E+00 |  0.000000E+00 |             f\n",
      "    55 |      310 |      1 |  0.000000E+00 |  0.000000E+00 |  0.0018343687 |             f\n",
      "    56 |      315 |      1 |  0.000000E+00 |  0.000000E+00 |  0.0018343687 |             f\n",
      "    57 |      320 |      1 |  0.000000E+00 |  0.000000E+00 |  0.0021981078 |             f\n",
      "    58 |      325 |      1 |  0.000000E+00 |  0.000000E+00 |  0.0021981078 |             f\n",
      "    59 |      330 |      1 |  0.000000E+00 |  0.000000E+00 |  0.0021981078 |             f\n",
      "    60 |      335 |      1 |  0.000000E+00 |  0.000000E+00 |  0.0021981078 |             f\n",
      "    61 |      340 |      1 |  0.000000E+00 |  0.000000E+00 |  0.0021981078 |             f\n",
      "    62 |      345 |      1 |  0.000000E+00 |  0.000000E+00 |  0.0021981078 |             f\n",
      "    63 |      350 |      1 |  0.000000E+00 |  0.000000E+00 |  0.0021981078 |             f\n",
      "    64 |      355 |      1 |  0.000000E+00 |  0.000000E+00 |  0.0021981078 |             f\n",
      "    65 |      360 |      1 |  0.000000E+00 |  0.000000E+00 |  0.0037212171 |         ideal\n",
      "    66 |      365 |      1 |  0.000000E+00 |  0.000000E+00 |  0.000000E+00 |             f\n",
      "    67 |      370 |      1 |  0.000000E+00 |  0.000000E+00 |  0.000000E+00 |             f\n",
      "    68 |      375 |      1 |  0.000000E+00 |  0.000000E+00 |  0.000000E+00 |             f\n",
      "    69 |      380 |      1 |  0.000000E+00 |  0.000000E+00 |  0.000000E+00 |             f\n",
      "    70 |      385 |      1 |  0.000000E+00 |  0.000000E+00 |  0.000000E+00 |             f\n",
      "    71 |      390 |      1 |  0.000000E+00 |  0.000000E+00 |  0.000000E+00 |             f\n",
      "    72 |      395 |      1 |  0.000000E+00 |  0.000000E+00 |  0.000000E+00 |             f\n",
      "    73 |      400 |      1 |  0.000000E+00 |  0.000000E+00 |  0.000000E+00 |             f\n",
      "    74 |      405 |      1 |  0.000000E+00 |  0.000000E+00 |  0.000000E+00 |             f\n",
      "    75 |      410 |      1 |  0.000000E+00 |  0.000000E+00 |  0.000000E+00 |             f\n",
      "    76 |      415 |      1 |  0.000000E+00 |  0.000000E+00 |  0.000000E+00 |             f\n",
      "    77 |      420 |      1 |  0.000000E+00 |  0.000000E+00 |  0.000000E+00 |             f\n",
      "    78 |      425 |      1 |  0.000000E+00 |  0.000000E+00 |  0.000000E+00 |             f\n",
      "    79 |      430 |      1 |  0.000000E+00 |  0.000000E+00 |  0.000000E+00 |             f\n",
      "    80 |      435 |      1 |  0.000000E+00 |  0.000000E+00 |  0.000000E+00 |             f\n"
     ]
    }
   ],
   "source": [
    "from pymoo.algorithms.soo.nonconvex.pso import PSO\n",
    "from pymoo.optimize import minimize\n",
    "from pymoo.core.problem import Problem \n",
    "from pymoo.algorithms.moo.nsga2 import NSGA2\n",
    "from pymoo.operators.crossover.sbx import SBX\n",
    "from pymoo.operators.mutation.pm import PM\n",
    "from pymoo.operators.sampling.rnd import FloatRandomSampling\n",
    "from pymoo.termination import get_termination\n",
    "import numpy as np\n",
    "\n",
    "class ColumnC1(Problem):\n",
    "    \n",
    "    def __init__(self):\n",
    "        #Lower y upper bounds de las variables o mejor dicho los rangos de busqueda para las variables \n",
    "        #              Netapas,Reflujo,Fstage1,Fstage2,SolventFlow\n",
    "        xlval = np.array([20,0.5,2 ,2 ,50])\n",
    "        xuval = np.array([50,1.5,19,19,150])\n",
    "        #Se definen el número de vairables, funciones objetivos, constraints y se cargar los bounds \n",
    "        #de las variables.\n",
    "        super().__init__(n_var=5, n_obj=1, n_ieq_constr=1, xl=xlval, xu=xuval)\n",
    "\n",
    "    def _evaluate(self, x, out, *args, **kwargs):\n",
    "        N_C1 = r\"\\Data\\Blocks\\B1\\Input\\NSTAGE\"\n",
    "        RR_C1  = r\"\\Data\\Blocks\\B1\\Input\\BASIS_RR\"\n",
    "        FeedStage_1  = r\"\\Data\\Blocks\\B1\\Input\\FEED_STAGE\\SOLV\"  \n",
    "        FeedStage_2 = r\"\\Data\\Blocks\\B1\\Input\\FEED_STAGE\\AZEO\"\n",
    "        solvent_flow_rate = r\"\\Data\\Streams\\SOLV\\Input\\TOTFLOW\\MIXED\"\n",
    "        acetone_mole_frac = r\"\\Data\\Streams\\ACETO\\Output\\MOLEFRAC\\MIXED\\ACETO-01\"\n",
    "        r1 , c1  = x.shape  # Ajuste al population size\n",
    "        TAC = np.zeros((r1, 1))\n",
    "        XD1 = np.zeros((r1, 1))\n",
    "        for i in range(r1):\n",
    "            Application.Tree.FindNode(N_C1).Value = round(x[i][0])  # se sustituye el valor de N etapas\n",
    "            Application.Tree.FindNode(RR_C1).Value = x[i][1]  # se sustituye el valor de reflujo\n",
    "            Application.Tree.FindNode(FeedStage_1).Value = round(x[i][2])  # valor de etapa de alimentacion\n",
    "            Application.Tree.FindNode(FeedStage_2).Value = round(x[i][3])  # valor de etapa de alimentacion\n",
    "            Application.Tree.FindNode(solvent_flow_rate).Value = x[i][4]  # se sustituye el valor de Solvent\n",
    "            Application.Engine.Run2()\n",
    "            # Outputs\n",
    "            XD1[i]  = Application.Tree.FindNode(acetone_mole_frac).Value\n",
    "            COND_DUTY = r\"\\Data\\Blocks\\B1\\Output\\COND_DUTY\"\n",
    "            TOP_TEMP = r\"\\Data\\Blocks\\B1\\Output\\TOP_TEMP\"\n",
    "            BOTTOM_TEMP = r\"\\Data\\Blocks\\B1\\Output\\BOTTOM_TEMP\"\n",
    "            REB_DUTY = r\"\\Data\\Blocks\\B1\\Output\\REB_DUTY\"\n",
    "            DiameterColumnB1 = 1.064321158\n",
    "            Fm = 1\n",
    "            Fc = Fm*(1 + 0.0074*(1.0132 - 3.48)  +  0.00023*(1.0132 - 3.48)**2)\n",
    "            H  = 0.6*(x[i][0]-1) + 2\n",
    "            ColumnaC1 =  (1716.2/280)*(957.9*(DiameterColumnB1**1.066)*(H**0.802))*(2.18*Fc) \n",
    "            PlatosC1 =  (1716.2/280)*(x[i][0])*97.2*(DiameterColumnB1**1.55)\n",
    "            CapitalCostColumnB1 = ColumnaC1 + PlatosC1\n",
    "                ## CONDENSADOR B1\n",
    "            Heattransfercoefficient_KC = 0.852 # kW/ K *m2 \n",
    "            TemperatureCoolingService = 35 + 273.15 #Kelvyn / Aspen Default \n",
    "            HeatCondenser = Application.Tree.FindNode(COND_DUTY).Value*0.0041868  #cal/sec to kW\n",
    "            T_outputCondenser  = Application.Tree.FindNode(TOP_TEMP).Value + 273.15 #Kelvyn\n",
    "            DeltaT_Condenser = T_outputCondenser - TemperatureCoolingService\n",
    "            AreaCondenser = -HeatCondenser/(Heattransfercoefficient_KC*(DeltaT_Condenser)) #m2\n",
    "            CapitalCostCondenserB1 = 7296*(AreaCondenser**0.65)\n",
    "                ## REBOILER  B1\n",
    "            Heattransfercoefficient_KR = 0.568 # kW/ K *m2 \n",
    "            T_outputReboiler  = Application.Tree.FindNode(BOTTOM_TEMP).Value + 273.15 #Kelvyn\n",
    "            Tvapor = 164 + 273.15 # Kelvyn Vapor of 100 Psi\n",
    "            HeatReboiler = Application.Tree.FindNode(REB_DUTY).Value*0.0041868    #cal/sec to kW\n",
    "            DeltaT_Reboiler = Tvapor - T_outputReboiler\n",
    "            AreaReboiler = HeatReboiler/(Heattransfercoefficient_KR *DeltaT_Reboiler )\n",
    "            CapitalCostReboilerB1 =  7296*(AreaReboiler**0.65)\n",
    "            TotalCapitalCost  = CapitalCostCondenserB1 +  CapitalCostColumnB1 + CapitalCostReboilerB1\n",
    "            #print('TotalCapitalCost',TotalCapitalCost)\n",
    "            TAC[i] = (TotalCapitalCost/3)/1e6 \n",
    "        # out[\"F\"] son las funciones objetivos a evaluar\n",
    "        # out[\"G\"] son las restricciones del problema, en este caso solo se fija la pureza del destilado\n",
    "        # se puede poner una senguna restricción para delimitar el rango de concentracion\n",
    "        # Ejemplo [- XD1 + 0.99980, XD1 - 0.99982]  \n",
    "        # Aqui el rango entonces queda entre 0.99982 y 0.99980 :) \n",
    "        out[\"F\"] = [TAC]\n",
    "        out[\"G\"] = [- XD1 + 0.9998]\n",
    "\n",
    "# Se carga problema\n",
    "problem = ColumnC1()\n",
    "# Se define el número de generaciones del problema  \n",
    "termination = get_termination(\"n_gen\", 80)\n",
    "# Se carga todos los parametros al algoritmo NSGA2\n",
    "algorithm = NSGA2(pop_size=40,n_offsprings=5,sampling=FloatRandomSampling(),crossover=SBX(prob=0.9, eta=15),mutation=PM(eta=20),eliminate_duplicates=True)\n",
    "res = minimize(problem,algorithm,termination,seed=1,save_history=True,verbose=True)"
   ]
  },
  {
   "cell_type": "code",
   "execution_count": 6,
   "metadata": {},
   "outputs": [
    {
     "name": "stdout",
     "output_type": "stream",
     "text": [
      "resultados X [ 25.88176453   1.06245909   3.10263578  12.64707133 124.06497276]\n",
      "Function final value [0.10158716]\n",
      "Constrainst final value  [-5.4415e-05]\n",
      "Composicion final de acetona calculado:  0.999854493\n"
     ]
    }
   ],
   "source": [
    "print('resultados X',res.X)\n",
    "print('Function final value',res.F)\n",
    "print('Constrainst final value ',res.G)\n",
    "X = res.X\n",
    "N_C1 = r\"\\Data\\Blocks\\B1\\Input\\NSTAGE\"\n",
    "RR_C1  = r\"\\Data\\Blocks\\B1\\Input\\BASIS_RR\"\n",
    "FeedStage_1  = r\"\\Data\\Blocks\\B1\\Input\\FEED_STAGE\\SOLV\"  \n",
    "FeedStage_2 = r\"\\Data\\Blocks\\B1\\Input\\FEED_STAGE\\AZEO\"\n",
    "solvent_flow_rate = r\"\\Data\\Streams\\SOLV\\Input\\TOTFLOW\\MIXED\"\n",
    "acetone_mole_frac = r\"\\Data\\Streams\\ACETO\\Output\\MOLEFRAC\\MIXED\\ACETO-01\"\n",
    "Application.Tree.FindNode(N_C1).Value = round(X[0])  # se sustituye el valor de N etapas\n",
    "Application.Tree.FindNode(RR_C1).Value =X[1] # se sustituye el valor de reflujo\n",
    "Application.Tree.FindNode(FeedStage_1).Value = round(X[2])  # valor de etapa de alimentacion\n",
    "Application.Tree.FindNode(FeedStage_2).Value = round(X[3])  # valor de etapa de alimentacion\n",
    "Application.Tree.FindNode(solvent_flow_rate).Value = X[4]  # se sustituye el valor de flujo de solvente\n",
    "Application.Engine.Run2()\n",
    "XD1  = Application.Tree.FindNode(acetone_mole_frac).Value\n",
    "print('Composicion final de acetona calculado: ', XD1)"
   ]
  },
  {
   "cell_type": "markdown",
   "metadata": {},
   "source": [
    "Nota: Con estos datos , se puede volver a reiterar el problema actualizando los bounds de busqueda para las variables."
   ]
  },
  {
   "cell_type": "markdown",
   "metadata": {},
   "source": [
    "El valor de TAC calculado haciendo analisis de sensibilidad y minimizando energia en las columnas se encuentran:    \n",
    "N Etapas = 29                               \n",
    "Reflujo  = 1.25                             \n",
    "Etapa alimentación solvente  = 3               \n",
    "Etapa alimentación azeotropica = 13         \n",
    "Flujo de solvente = 101                     \n",
    "TAC = 0.101458                               \n",
    "Purezea Destilado | 0.99980               \n",
    "\n",
    "Con Algoritmo ...\n",
    "\n",
    "N Etapas Algoritmo = 26     \n",
    "Reflujo Algoritmo = 1.06    \n",
    "Etapa alimentación solvente  = 3    (valor redondeado)      \n",
    "Etapa alimentación azeotropica = 13 (valor redondeado)      \n",
    "Flujo de solvente = 124.06      \n",
    "TAC = 0.101587        \n",
    "Purezea Destilado = 0.99985    \n"
   ]
  },
  {
   "cell_type": "code",
   "execution_count": 9,
   "metadata": {},
   "outputs": [
    {
     "name": "stdout",
     "output_type": "stream",
     "text": [
      "Composicion final de acetona calculado:  0.999805175\n",
      "TAC 0.10145890276908356\n"
     ]
    }
   ],
   "source": [
    "N_C1 = r\"\\Data\\Blocks\\B1\\Input\\NSTAGE\"\n",
    "RR_C1  = r\"\\Data\\Blocks\\B1\\Input\\BASIS_RR\"\n",
    "FeedStage_1  = r\"\\Data\\Blocks\\B1\\Input\\FEED_STAGE\\SOLV\"  \n",
    "FeedStage_2 = r\"\\Data\\Blocks\\B1\\Input\\FEED_STAGE\\AZEO\"\n",
    "solvent_flow_rate = r\"\\Data\\Streams\\SOLV\\Input\\TOTFLOW\\MIXED\"\n",
    "acetone_mole_frac = r\"\\Data\\Streams\\ACETO\\Output\\MOLEFRAC\\MIXED\\ACETO-01\"\n",
    "Application.Tree.FindNode(N_C1).Value = 29  # se sustituye el valor de N etapas\n",
    "Application.Tree.FindNode(RR_C1).Value =1.25 # se sustituye el valor de reflujo\n",
    "Application.Tree.FindNode(FeedStage_1).Value = 3  # valor de etapa de alimentacion\n",
    "Application.Tree.FindNode(FeedStage_2).Value = 13 # valor de etapa de alimentacion\n",
    "Application.Tree.FindNode(solvent_flow_rate).Value = 101  # se sustituye el valor de N etapas\n",
    "Application.Engine.Run2()\n",
    "XD1  = Application.Tree.FindNode(acetone_mole_frac).Value\n",
    "print('Composicion final de acetona calculado: ', XD1)\n",
    "COND_DUTY = r\"\\Data\\Blocks\\B1\\Output\\COND_DUTY\"\n",
    "TOP_TEMP = r\"\\Data\\Blocks\\B1\\Output\\TOP_TEMP\"\n",
    "BOTTOM_TEMP = r\"\\Data\\Blocks\\B1\\Output\\BOTTOM_TEMP\"\n",
    "REB_DUTY = r\"\\Data\\Blocks\\B1\\Output\\REB_DUTY\"\n",
    "DiameterColumnB1 = 1.064321158\n",
    "Fm = 1\n",
    "Fc = Fm*(1 + 0.0074*(1.0132 - 3.48)  +  0.00023*(1.0132 - 3.48)**2)\n",
    "H  = 0.6*(29-1) + 2\n",
    "ColumnaC1 =  (1716.2/280)*(957.9*(DiameterColumnB1**1.066)*(H**0.802))*(2.18*Fc) \n",
    "PlatosC1 =  (1716.2/280)*(29)*97.2*(DiameterColumnB1**1.55)\n",
    "CapitalCostColumnB1 = ColumnaC1 + PlatosC1\n",
    "                ## CONDENSADOR B1\n",
    "Heattransfercoefficient_KC = 0.852 # kW/ K *m2 \n",
    "TemperatureCoolingService = 35 + 273.15 #Kelvyn / Aspen Default \n",
    "HeatCondenser = Application.Tree.FindNode(COND_DUTY).Value*0.0041868  #cal/sec to kW\n",
    "T_outputCondenser  = Application.Tree.FindNode(TOP_TEMP).Value + 273.15 #Kelvyn\n",
    "DeltaT_Condenser = T_outputCondenser - TemperatureCoolingService\n",
    "AreaCondenser = -HeatCondenser/(Heattransfercoefficient_KC*(DeltaT_Condenser)) #m2\n",
    "CapitalCostCondenserB1 = 7296*(AreaCondenser**0.65)\n",
    "                ## REBOILER  B1\n",
    "Heattransfercoefficient_KR = 0.568 # kW/ K *m2 \n",
    "T_outputReboiler  = Application.Tree.FindNode(BOTTOM_TEMP).Value + 273.15 #Kelvyn\n",
    "Tvapor = 164 + 273.15 # Kelvyn Vapor of 100 Psi\n",
    "HeatReboiler = Application.Tree.FindNode(REB_DUTY).Value*0.0041868    #cal/sec to kW\n",
    "DeltaT_Reboiler = Tvapor - T_outputReboiler\n",
    "AreaReboiler = HeatReboiler/(Heattransfercoefficient_KR *DeltaT_Reboiler )\n",
    "CapitalCostReboilerB1 =  7296*(AreaReboiler**0.65)\n",
    "TotalCapitalCost  = CapitalCostCondenserB1 +  CapitalCostColumnB1 + CapitalCostReboilerB1\n",
    "TAC = (TotalCapitalCost/3)/1e6\n",
    "print('TAC',TAC)"
   ]
  },
  {
   "cell_type": "code",
   "execution_count": 10,
   "metadata": {},
   "outputs": [],
   "source": [
    "Application.Quit(aspen_Path)"
   ]
  }
 ],
 "metadata": {
  "kernelspec": {
   "display_name": "Python 3",
   "language": "python",
   "name": "python3"
  },
  "language_info": {
   "codemirror_mode": {
    "name": "ipython",
    "version": 3
   },
   "file_extension": ".py",
   "mimetype": "text/x-python",
   "name": "python",
   "nbconvert_exporter": "python",
   "pygments_lexer": "ipython3",
   "version": "3.9.17"
  },
  "orig_nbformat": 4
 },
 "nbformat": 4,
 "nbformat_minor": 2
}
